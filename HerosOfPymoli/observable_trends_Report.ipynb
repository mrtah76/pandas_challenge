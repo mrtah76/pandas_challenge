{
 "cells": [
  {
   "cell_type": "markdown",
   "metadata": {},
   "source": [
    "## Observable Trends Report"
   ]
  },
  {
   "cell_type": "markdown",
   "metadata": {},
   "source": [
    "* Predominamtly Male Players are the main customers for this game. There are over 84% Male Players\n",
    "* Male Players are pay more attention to their spendings and have the lowest Average Total Purchase per person\n",
    "* This Game is most popular beetween Teenagers and College Students. Between the ages 15 & 24\n",
    "* Average Purchase Per Person is higher the Average Price in all Genders and Ages Groups. Playares are spending more than the Avg Price.\n",
    "* there are only 6 items from the top 10 Popular items that are in the top 10 profitable items. By increasing the price on the other missing 4 in popular list we can generate more profit.\n"
   ]
  },
  {
   "cell_type": "code",
   "execution_count": null,
   "metadata": {},
   "outputs": [],
   "source": []
  }
 ],
 "metadata": {
  "kernelspec": {
   "display_name": "Python 3",
   "language": "python",
   "name": "python3"
  },
  "language_info": {
   "codemirror_mode": {
    "name": "ipython",
    "version": 3
   },
   "file_extension": ".py",
   "mimetype": "text/x-python",
   "name": "python",
   "nbconvert_exporter": "python",
   "pygments_lexer": "ipython3",
   "version": "3.8.5"
  }
 },
 "nbformat": 4,
 "nbformat_minor": 4
}
